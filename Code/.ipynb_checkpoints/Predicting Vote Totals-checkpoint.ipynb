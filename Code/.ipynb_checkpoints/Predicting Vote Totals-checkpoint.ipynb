{
 "cells": [
  {
   "cell_type": "code",
   "execution_count": 1,
   "metadata": {
    "collapsed": true
   },
   "outputs": [],
   "source": [
    "# Imports\n",
    "import pickle as pic\n",
    "import numpy as np\n",
    "import seaborn as sb\n",
    "import nltk, string\n",
    "import pandas as pd\n",
    "from gensim import corpora, models, similarities\n",
    "from collections import defaultdict\n",
    "from nltk.corpus import stopwords\n",
    "import gensim\n",
    "from itertools import compress\n",
    "%matplotlib inline"
   ]
  },
  {
   "cell_type": "markdown",
   "metadata": {},
   "source": [
    "## Load Data"
   ]
  },
  {
   "cell_type": "code",
   "execution_count": 2,
   "metadata": {
    "collapsed": false
   },
   "outputs": [],
   "source": [
    "# Load Datasets\n",
    "all_data = pic.load( open(\"../Data/all_data.p\", \"rb\"))"
   ]
  },
  {
   "cell_type": "code",
   "execution_count": 3,
   "metadata": {
    "collapsed": false
   },
   "outputs": [
    {
     "data": {
      "text/html": [
       "<div>\n",
       "<table border=\"1\" class=\"dataframe\">\n",
       "  <thead>\n",
       "    <tr style=\"text-align: right;\">\n",
       "      <th></th>\n",
       "      <th>song_id</th>\n",
       "      <th>title</th>\n",
       "      <th>artist</th>\n",
       "      <th>artist_id</th>\n",
       "      <th>ref_id</th>\n",
       "      <th>classification</th>\n",
       "      <th>fragment</th>\n",
       "      <th>is_description</th>\n",
       "      <th>annotator_id</th>\n",
       "      <th>ann_id</th>\n",
       "      <th>ann_text</th>\n",
       "      <th>has_voters</th>\n",
       "      <th>comment_count</th>\n",
       "      <th>votes_total</th>\n",
       "    </tr>\n",
       "  </thead>\n",
       "  <tbody>\n",
       "    <tr>\n",
       "      <th>0</th>\n",
       "      <td>156640</td>\n",
       "      <td>0 to 100 / The Catch Up</td>\n",
       "      <td>Drake</td>\n",
       "      <td>130</td>\n",
       "      <td>3272685</td>\n",
       "      <td>accepted</td>\n",
       "      <td>Maybe I'm searchin' for the problems, askin' w...</td>\n",
       "      <td>False</td>\n",
       "      <td>58812</td>\n",
       "      <td>3272685.0</td>\n",
       "      <td>Like he says in Think Good, Drake is constantl...</td>\n",
       "      <td>True</td>\n",
       "      <td>0.0</td>\n",
       "      <td>19.0</td>\n",
       "    </tr>\n",
       "    <tr>\n",
       "      <th>1</th>\n",
       "      <td>156640</td>\n",
       "      <td>0 to 100 / The Catch Up</td>\n",
       "      <td>Drake</td>\n",
       "      <td>130</td>\n",
       "      <td>3272333</td>\n",
       "      <td>accepted</td>\n",
       "      <td>The other night, Lavish Lee told me that I'm a...</td>\n",
       "      <td>False</td>\n",
       "      <td>658401</td>\n",
       "      <td>3272333.0</td>\n",
       "      <td>Lavish Lee is the best friend of Melissa Shay ...</td>\n",
       "      <td>True</td>\n",
       "      <td>0.0</td>\n",
       "      <td>37.0</td>\n",
       "    </tr>\n",
       "    <tr>\n",
       "      <th>2</th>\n",
       "      <td>156640</td>\n",
       "      <td>0 to 100 / The Catch Up</td>\n",
       "      <td>Drake</td>\n",
       "      <td>130</td>\n",
       "      <td>3272181</td>\n",
       "      <td>accepted</td>\n",
       "      <td>[Bridge]\\n Whole squad on that real shit\\n Who...</td>\n",
       "      <td>False</td>\n",
       "      <td>18490</td>\n",
       "      <td>3272181.0</td>\n",
       "      <td>Drakes only squads are OVO (and TOPSZN lowkey)...</td>\n",
       "      <td>True</td>\n",
       "      <td>0.0</td>\n",
       "      <td>44.0</td>\n",
       "    </tr>\n",
       "    <tr>\n",
       "      <th>3</th>\n",
       "      <td>156640</td>\n",
       "      <td>0 to 100 / The Catch Up</td>\n",
       "      <td>Drake</td>\n",
       "      <td>130</td>\n",
       "      <td>3272064</td>\n",
       "      <td>accepted</td>\n",
       "      <td>Fuck all that \"Drake you gotta chill\" shit\\n I...</td>\n",
       "      <td>False</td>\n",
       "      <td>314816</td>\n",
       "      <td>3272064.0</td>\n",
       "      <td>Drake had caught criticism for acting hard in ...</td>\n",
       "      <td>True</td>\n",
       "      <td>1.0</td>\n",
       "      <td>43.0</td>\n",
       "    </tr>\n",
       "    <tr>\n",
       "      <th>4</th>\n",
       "      <td>156640</td>\n",
       "      <td>0 to 100 / The Catch Up</td>\n",
       "      <td>Drake</td>\n",
       "      <td>130</td>\n",
       "      <td>3272003</td>\n",
       "      <td>accepted</td>\n",
       "      <td>I'm just here for the bucks and the billis, ni...</td>\n",
       "      <td>False</td>\n",
       "      <td>104344</td>\n",
       "      <td>3272003.0</td>\n",
       "      <td>These lines continue the shots between Drizzy ...</td>\n",
       "      <td>True</td>\n",
       "      <td>1.0</td>\n",
       "      <td>98.0</td>\n",
       "    </tr>\n",
       "  </tbody>\n",
       "</table>\n",
       "</div>"
      ],
      "text/plain": [
       "   song_id                    title artist  artist_id   ref_id classification  \\\n",
       "0   156640  0 to 100 / The Catch Up  Drake        130  3272685       accepted   \n",
       "1   156640  0 to 100 / The Catch Up  Drake        130  3272333       accepted   \n",
       "2   156640  0 to 100 / The Catch Up  Drake        130  3272181       accepted   \n",
       "3   156640  0 to 100 / The Catch Up  Drake        130  3272064       accepted   \n",
       "4   156640  0 to 100 / The Catch Up  Drake        130  3272003       accepted   \n",
       "\n",
       "                                            fragment is_description  \\\n",
       "0  Maybe I'm searchin' for the problems, askin' w...          False   \n",
       "1  The other night, Lavish Lee told me that I'm a...          False   \n",
       "2  [Bridge]\\n Whole squad on that real shit\\n Who...          False   \n",
       "3  Fuck all that \"Drake you gotta chill\" shit\\n I...          False   \n",
       "4  I'm just here for the bucks and the billis, ni...          False   \n",
       "\n",
       "   annotator_id     ann_id                                           ann_text  \\\n",
       "0         58812  3272685.0  Like he says in Think Good, Drake is constantl...   \n",
       "1        658401  3272333.0  Lavish Lee is the best friend of Melissa Shay ...   \n",
       "2         18490  3272181.0  Drakes only squads are OVO (and TOPSZN lowkey)...   \n",
       "3        314816  3272064.0  Drake had caught criticism for acting hard in ...   \n",
       "4        104344  3272003.0  These lines continue the shots between Drizzy ...   \n",
       "\n",
       "  has_voters  comment_count  votes_total  \n",
       "0       True            0.0         19.0  \n",
       "1       True            0.0         37.0  \n",
       "2       True            0.0         44.0  \n",
       "3       True            1.0         43.0  \n",
       "4       True            1.0         98.0  "
      ]
     },
     "execution_count": 3,
     "metadata": {},
     "output_type": "execute_result"
    }
   ],
   "source": [
    "all_data.head()"
   ]
  },
  {
   "cell_type": "markdown",
   "metadata": {},
   "source": [
    "## Feature Engineering"
   ]
  },
  {
   "cell_type": "code",
   "execution_count": 4,
   "metadata": {
    "collapsed": true
   },
   "outputs": [],
   "source": [
    "# Get Text for Referent and Annotations\n",
    "ann_text = all_data['ann_text'].values\n",
    "ref_text = all_data['fragment'].values"
   ]
  },
  {
   "cell_type": "code",
   "execution_count": 68,
   "metadata": {
    "collapsed": true
   },
   "outputs": [],
   "source": [
    "# Copy Data\n",
    "all_data_2 = all_data.copy()"
   ]
  },
  {
   "cell_type": "code",
   "execution_count": 5,
   "metadata": {
    "collapsed": true
   },
   "outputs": [],
   "source": [
    "# Define normalizer\n",
    "stemmer = nltk.stem.porter.PorterStemmer()\n",
    "\n",
    "stop = set(stopwords.words('english'))\n",
    "\n",
    "def stem_tokens(tokens):\n",
    "    return [stemmer.stem(item) for item in tokens if item not in stop]\n",
    "\n",
    "def normalize(text):\n",
    "    return stem_tokens(nltk.word_tokenize(\n",
    "            text.lower().translate(None, string.punctuation)))"
   ]
  },
  {
   "cell_type": "code",
   "execution_count": 6,
   "metadata": {
    "collapsed": false
   },
   "outputs": [],
   "source": [
    "# Normalize our annotations and Referent Text\n",
    "ann_text_bow = map(normalize, ann_text)\n",
    "ref_text_bow = map(normalize, ref_text)"
   ]
  },
  {
   "cell_type": "code",
   "execution_count": 69,
   "metadata": {
    "collapsed": false
   },
   "outputs": [],
   "source": [
    "# Create our referent corpus\n",
    "ref_dictionary = corpora.Dictionary(ref_text_bow)\n",
    "ref_corpus_bow = [dictionary.doc2bow(text) for text in ref_text_bow]\n",
    "\n",
    "# Make our Referent Models\n",
    "ref_tfidf = models.TfidfModel(ref_corpus_bow) # Make TFIDF model\n",
    "ref_corpus_tfidf = tfidf[ref_corpus_bow] # Make TFIDF corpus\n",
    "ref_lsa = models.LsiModel(ref_corpus_tfidf, id2word=dictionary, num_topics=10) # Make LSA model\n",
    "ref_corpus_lsa = lsa[ref_corpus_tfidf] # Make LSA corpus\n",
    "\n",
    "# Get LSA Matrix\n",
    "ref_corpus_lsa_matrix = gensim.matutils.corpus2dense(ref_corpus_lsa, num_terms=10)\n",
    "\n",
    "# Merge Data\n",
    "ref_corpus_lsa_df = pd.DataFrame(corpus_lsa_matrix.T)\n",
    "ref_corpus_lsa_df.columns = ['%s_LSA_%s' % ('ref', i) for i in range(1, 11)]\n",
    "all_data_2 = pd.merge(all_data_2, ref_corpus_lsa_df, how='inner', \n",
    "                      left_index=True, right_index=True)"
   ]
  },
  {
   "cell_type": "code",
   "execution_count": 70,
   "metadata": {
    "collapsed": true
   },
   "outputs": [],
   "source": [
    "# Create our annotation corpus\n",
    "ann_dictionary = corpora.Dictionary(ann_text_bow)\n",
    "ann_corpus_bow = [dictionary.doc2bow(text) for text in ann_text_bow]\n",
    "\n",
    "# Make our Referent Models\n",
    "ann_tfidf = models.TfidfModel(ann_corpus_bow) # Make TFIDF model\n",
    "ann_corpus_tfidf = tfidf[ann_corpus_bow] # Make TFIDF corpus\n",
    "ann_lsa = models.LsiModel(ann_corpus_tfidf, id2word=ann_dictionary, num_topics=10) # Make LSA model\n",
    "ann_corpus_lsa = lsa[ann_corpus_tfidf] # Make LSA corpus\n",
    "\n",
    "# Get LSA Matrix\n",
    "ann_corpus_lsa_matrix = gensim.matutils.corpus2dense(ann_corpus_lsa, num_terms=10)\n",
    "\n",
    "# Merge Data\n",
    "ann_corpus_lsa_df = pd.DataFrame(ann_corpus_lsa_matrix.T)\n",
    "ann_corpus_lsa_df.columns = ['%s_LSA_%s' % ('ann', i) for i in range(1, 11)]\n",
    "all_data_2 = pd.merge(all_data_2, ann_corpus_lsa_df, how='inner', \n",
    "                      left_index=True, right_index=True)"
   ]
  },
  {
   "cell_type": "code",
   "execution_count": 71,
   "metadata": {
    "collapsed": false
   },
   "outputs": [
    {
     "name": "stdout",
     "output_type": "stream",
     "text": [
      "(147274, 34)\n"
     ]
    }
   ],
   "source": [
    "print all_data_2.shape"
   ]
  },
  {
   "cell_type": "code",
   "execution_count": 72,
   "metadata": {
    "collapsed": false
   },
   "outputs": [
    {
     "name": "stdout",
     "output_type": "stream",
     "text": [
      "(147274, 311)\n"
     ]
    }
   ],
   "source": [
    "# Create Dummy Variables for Artists\n",
    "artists_df = pd.get_dummies(all_data_2.artist)\n",
    "all_data_2 = pd.merge(all_data_2, artists_df, how='inner', \n",
    "                      left_index=True, right_index=True)\n",
    "print all_data_2.shape"
   ]
  },
  {
   "cell_type": "code",
   "execution_count": 73,
   "metadata": {
    "collapsed": false
   },
   "outputs": [
    {
     "name": "stdout",
     "output_type": "stream",
     "text": [
      "(147274, 314)\n"
     ]
    }
   ],
   "source": [
    "# Create Dummy Variables for Classification\n",
    "classification_df = pd.get_dummies(all_data_2.classification)\n",
    "all_data_2 = pd.merge(all_data_2, classification_df, how='inner', \n",
    "                      left_index=True, right_index=True)\n",
    "print all_data_2.shape"
   ]
  },
  {
   "cell_type": "code",
   "execution_count": 74,
   "metadata": {
    "collapsed": true
   },
   "outputs": [],
   "source": [
    "# Cast has_voters as type int\n",
    "all_data_2['has_voters'] = all_data_2['has_voters'].apply(lambda x: int(x))"
   ]
  },
  {
   "cell_type": "code",
   "execution_count": 75,
   "metadata": {
    "collapsed": false
   },
   "outputs": [
    {
     "name": "stdout",
     "output_type": "stream",
     "text": [
      "(147274, 304)\n"
     ]
    }
   ],
   "source": [
    "# Drop Unnecessary Columns\n",
    "all_data_2.drop(['song_id', 'title', 'artist', 'artist_id', 'ref_id', \n",
    "                'fragment', 'annotator_id', 'ann_id', 'ann_text', \n",
    "                 'classification'], axis=1, inplace=True)\n",
    "print all_data_2.shape"
   ]
  },
  {
   "cell_type": "markdown",
   "metadata": {},
   "source": [
    "## Modelling"
   ]
  },
  {
   "cell_type": "code",
   "execution_count": 78,
   "metadata": {
    "collapsed": true
   },
   "outputs": [],
   "source": [
    "# Create Target and Predictor\n",
    "target = all_data_2['votes_total']\n",
    "predictor = all_data_2.drop(['votes_total'], axis=1)\n"
   ]
  },
  {
   "cell_type": "code",
   "execution_count": 82,
   "metadata": {
    "collapsed": false
   },
   "outputs": [
    {
     "data": {
      "text/plain": [
       "<matplotlib.axes._subplots.AxesSubplot at 0x14a38bb90>"
      ]
     },
     "execution_count": 82,
     "metadata": {},
     "output_type": "execute_result"
    },
    {
     "data": {
      "image/png": "[encoded data removed]",
      "text/plain": [
       "<matplotlib.figure.Figure at 0x13b336510>"
      ]
     },
     "metadata": {},
     "output_type": "display_data"
    }
   ],
   "source": [
    "# Visualize target\n",
    "sb.distplot(target, kde=False)"
   ]
  },
  {
   "cell_type": "code",
   "execution_count": 93,
   "metadata": {
    "collapsed": false
   },
   "outputs": [],
   "source": [
    "# Modelling Imports\n",
    "from sklearn.linear_model import RidgeCV\n",
    "from sklearn.linear_model import LassoCV\n",
    "from sklearn.grid_search import GridSearchCV\n",
    "from sklearn.cross_validation import train_test_split\n",
    "from sklearn.cross_validation import cross_val_score\n",
    "from sklearn.ensemble import RandomForestRegressor"
   ]
  },
  {
   "cell_type": "markdown",
   "metadata": {},
   "source": [
    "### Random Forest"
   ]
  },
  {
   "cell_type": "code",
   "execution_count": 94,
   "metadata": {
    "collapsed": false
   },
   "outputs": [
    {
     "name": "stderr",
     "output_type": "stream",
     "text": [
      "[Parallel(n_jobs=-1)]: Done   5 out of   5 | elapsed:  6.3min finished\n"
     ]
    },
    {
     "data": {
      "text/plain": [
       "array([ 0.06285206,  0.36119679, -0.187619  , -0.12313708, -0.65145189])"
      ]
     },
     "execution_count": 94,
     "metadata": {},
     "output_type": "execute_result"
    }
   ],
   "source": [
    "# Create Random Forest Regressor\n",
    "rfr = RandomForestRegressor()\n",
    "\n",
    "cross_val_score(rfr, predictor, target, cv=5, n_jobs=-1, verbose=1)"
   ]
  },
  {
   "cell_type": "code",
   "execution_count": 101,
   "metadata": {
    "collapsed": false
   },
   "outputs": [],
   "source": [
    "# Create Random Forest Regressor\n",
    "rfr = RandomForestRegressor()\n",
    "rfr_params = {\n",
    "    \"n_estimators\": [10, 50, 100],\n",
    "    \"max_depth\": [2,5,None],\n",
    "}\n",
    "\n",
    "rfr_gs = GridSearchCV(rfr, rfr_params, n_jobs=-1, verbose=2, cv=3)"
   ]
  },
  {
   "cell_type": "code",
   "execution_count": null,
   "metadata": {
    "collapsed": false
   },
   "outputs": [
    {
     "name": "stdout",
     "output_type": "stream",
     "text": [
      "Fitting 3 folds for each of 9 candidates, totalling 27 fits\n",
      "[CV] n_estimators=10, max_depth=2 ....................................\n",
      "[CV] n_estimators=10, max_depth=2 ....................................\n",
      "[CV] n_estimators=10, max_depth=2 ....................................\n",
      "[CV] n_estimators=50, max_depth=2 ....................................\n",
      "[CV] ........................... n_estimators=10, max_depth=2 - 1.3min\n",
      "[CV] n_estimators=50, max_depth=2 ....................................\n",
      "[CV] ........................... n_estimators=10, max_depth=2 - 1.4min\n",
      "[CV] n_estimators=50, max_depth=2 ....................................\n",
      "[CV] ........................... n_estimators=10, max_depth=2 - 1.4min\n",
      "[CV] n_estimators=100, max_depth=2 ...................................\n",
      "[CV] ........................... n_estimators=50, max_depth=2 - 2.2min\n",
      "[CV] n_estimators=100, max_depth=2 ...................................\n",
      "[CV] ........................... n_estimators=50, max_depth=2 - 1.7min\n",
      "[CV] n_estimators=100, max_depth=2 ...................................\n",
      "[CV] ........................... n_estimators=50, max_depth=2 - 1.6min\n",
      "[CV] n_estimators=10, max_depth=5 ....................................\n",
      "[CV] ........................... n_estimators=10, max_depth=5 -  36.0s\n",
      "[CV] n_estimators=10, max_depth=5 ....................................\n",
      "[CV] .......................... n_estimators=100, max_depth=2 - 2.3min\n",
      "[CV] n_estimators=10, max_depth=5 ....................................\n",
      "[CV] ........................... n_estimators=10, max_depth=5 -  38.4s\n",
      "[CV] n_estimators=50, max_depth=5 ....................................\n",
      "[CV] ........................... n_estimators=10, max_depth=5 -  39.3s\n",
      "[CV] n_estimators=50, max_depth=5 ....................................\n",
      "[CV] .......................... n_estimators=100, max_depth=2 - 2.6min\n",
      "[CV] n_estimators=50, max_depth=5 ....................................\n",
      "[CV] .......................... n_estimators=100, max_depth=2 - 2.6min\n",
      "[CV] n_estimators=100, max_depth=5 ...................................\n",
      "[CV] ........................... n_estimators=50, max_depth=5 - 2.0min\n",
      "[CV] n_estimators=100, max_depth=5 ...................................\n",
      "[CV] ........................... n_estimators=50, max_depth=5 - 2.4min\n",
      "[CV] n_estimators=100, max_depth=5 ...................................\n",
      "[CV] ........................... n_estimators=50, max_depth=5 - 2.3min\n",
      "[CV] n_estimators=10, max_depth=None .................................\n",
      "[CV] .......................... n_estimators=100, max_depth=5 - 3.6min\n",
      "[CV] n_estimators=10, max_depth=None .................................\n",
      "[CV] ........................ n_estimators=10, max_depth=None - 2.4min\n",
      "[CV] n_estimators=10, max_depth=None .................................\n",
      "[CV] .......................... n_estimators=100, max_depth=5 - 4.5min\n",
      "[CV] n_estimators=50, max_depth=None .................................\n",
      "[CV] .......................... n_estimators=100, max_depth=5 - 4.5min\n",
      "[CV] n_estimators=50, max_depth=None .................................\n",
      "[CV] ........................ n_estimators=10, max_depth=None - 2.9min\n",
      "[CV] n_estimators=50, max_depth=None .................................\n",
      "[CV] ........................ n_estimators=10, max_depth=None - 2.7min\n",
      "[CV] n_estimators=100, max_depth=None ................................\n"
     ]
    }
   ],
   "source": [
    "rfr_gs.fit(predictor, target)"
   ]
  },
  {
   "cell_type": "markdown",
   "metadata": {},
   "source": [
    "### XGBoost"
   ]
  },
  {
   "cell_type": "code",
   "execution_count": null,
   "metadata": {
    "collapsed": true
   },
   "outputs": [],
   "source": []
  },
  {
   "cell_type": "markdown",
   "metadata": {},
   "source": [
    "## Appendix"
   ]
  },
  {
   "cell_type": "code",
   "execution_count": null,
   "metadata": {
    "collapsed": true
   },
   "outputs": [],
   "source": [
    "class GeniusPreProcessor(BaseEstimator, TransformerMixin):\n",
    "    '''\n",
    "    Preprocessing class for Genius Data\n",
    "    '''\n",
    "    \n",
    "    def __init__(self):\n",
    "        self.feature_names = []\n",
    "        self.corpuses = {}\n",
    "        self.model_dictionary = {}\n",
    "        \n",
    "        \n",
    "    def stem_tokens(self, tokens):\n",
    "        stemmer = nltk.stem.porter.PorterStemmer()\n",
    "        stop = set(stopwords.words('english'))\n",
    "        [stemmer.stem(item) for item in tokens if item not in stop]\n",
    "        \n",
    "    def normalize(self, text):\n",
    "        text_norm = stem_tokens(nltk.word_tokenize(\n",
    "                text.lower().translate(None, string.punctuation)))\n",
    "        return text_norm\n",
    "        \n",
    "    def gen_lsa_features(self, X, column, num_topics):\n",
    "        text = X[column].values\n",
    "        text_norm = map(normalize, text) # Normalize text\n",
    "        dictionary = corpora.Dictionary(text_norm) # Make Dictionary\n",
    "        corpus_bow = [dictionary.doc2bow(text) for text in text_norm] # Make BOW corpus\n",
    "        tfidf = models.TfidfModel(corpus_bow) # Make TFIDF model\n",
    "        corpus_tfidf = tfidf[corpus_bow] # Make TFIDF corpus\n",
    "        lsa = models.LsiModel(corpus_tfidf, id2word=dictionary, num_topics=num_topics) # Make LSA model\n",
    "        corpus_lsa = lsa[corpus_tfidf] # Make LSA corpus\n",
    "        corpus_lsa_matrix = gensim.matutils.corpus2dense(corpus_lsa, num_terms=10)\n",
    "        corpus_lsa_df = pd.DataFrame(corpus_lsa_matrix.T)\n",
    "        corpus_lsa_df.columns = ['%s_LSA_%s' % (column, i) for i in range(1, num_topics + 1)]\n",
    "        X_out = pd.merge(X, corpus_lsa_df, how='inner', \n",
    "                         left_index=True, right_index=True) # Merge Features\n",
    "        return X_out\n",
    "    \n",
    "        \n",
    "        \n",
    "    def fit(self X, *args):\n",
    "        return self\n",
    "    \n",
    "    def transform(self, X, *args):\n",
    "        Xc = X.copy()\n",
    "        return Xc"
   ]
  }
 ],
 "metadata": {
  "anaconda-cloud": {},
  "kernelspec": {
   "display_name": "Python [conda env:dsi]",
   "language": "python",
   "name": "conda-env-dsi-py"
  },
  "language_info": {
   "codemirror_mode": {
    "name": "ipython",
    "version": 2
   },
   "file_extension": ".py",
   "mimetype": "text/x-python",
   "name": "python",
   "nbconvert_exporter": "python",
   "pygments_lexer": "ipython2",
   "version": "2.7.12"
  }
 },
 "nbformat": 4,
 "nbformat_minor": 1
}
