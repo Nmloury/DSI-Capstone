{
 "cells": [
  {
   "cell_type": "code",
   "execution_count": 1,
   "metadata": {
    "collapsed": true
   },
   "outputs": [],
   "source": [
    "import numpy as np\n",
    "import pandas as pd\n",
    "import psycopg2 as psy\n",
    "import matplotlib\n",
    "import matplotlib.pyplot as plt\n",
    "import seaborn as sb\n",
    "import pickle as pic\n",
    "\n",
    "%matplotlib inline"
   ]
  },
  {
   "cell_type": "markdown",
   "metadata": {},
   "source": [
    "# From Language to Lyrics"
   ]
  },
  {
   "cell_type": "markdown",
   "metadata": {},
   "source": [
    "## Introduction"
   ]
  },
  {
   "cell_type": "markdown",
   "metadata": {},
   "source": [
    "Human beings have spent millennia attempting to express themselves through poetry and music. Often, emotions and thoughts find the purest form when they are funneled through a creative outlet. However, although everyone has the ability to appreciate a well formed metaphor or an apt phrase when they hear or see it, not everyone is capable of creating at the same level. If that's the case what is one to do? If only there were a way to translate a mundane phrase into a lyrical snippet from your favorite eloquent artist to describe how you really feel.\n",
    "\n",
    "\n",
    "**ENTER** From Language to Lyrics: a recommendation engine for matching an inputted phrase to a set of lyrics that best embodies the meaning of that phrase.\n",
    "\n",
    "On a more serious note, translation and information retrieval are crucial to providing users with relevant information and/or transforming that information into an understandable format. Combining my love of music and lyricism and the practicality of deeply understanding information retrieval tasks led me to create this lyrics recommendation engine"
   ]
  },
  {
   "cell_type": "markdown",
   "metadata": {},
   "source": [
    "## Getting the Data"
   ]
  },
  {
   "cell_type": "markdown",
   "metadata": {},
   "source": [
    "For mr primary dataset, I chose genius.com, a lyrics site that contains user created explanations of what those lyrics mean. This was an ideal dataset for this problem for a number of reasons:\n",
    "\n",
    "1. They have a readily accessible and actively maintained API where one can query for artist, song, lyrics and annotation (user explanations of lyrics) information\n",
    "2. The lyrics, through their connection to the annotations, are broken down into easily digestable chunks, usually between 2-8 lines. This is convenient because when translating a regular statement into lyrics, a user likely wants a return of similar length instead of an entire song that they need to parse through\n",
    "3. Perhaps most importantly, the fact that there are annotations on almost all pieces of lyrics means that there is an **explanation** of what those lyrics mean. The great (and terrible, from a information retrieval perspective) part about lyrics, is that they are often metaphorical or roundabout in nature. This means that using traditional IR methods may not be effective in returning the most relevant results for a user. The addition of the annotation provides a more explicit description of what a given set of lyrics mean, which helps get the user better results"
   ]
  },
  {
   "cell_type": "markdown",
   "metadata": {},
   "source": [
    "In order to obtain the data. I first created a list of artists that was a combination of the authors of the top selling hip-hop albums (per complex magazine) and the most critically acclaimed hip-hop songs of the past 5 years from Billboard. I then used this list of artists to query the Genius API to obtain all the lyrical snippets (from here on referred to a referents), annotations, and associated metadata from their entire corpus of lyrics, as well as some general information regarding the songs themselves. I stored this information in a SQL database, using the Genius created IDs to link across songs, referents, and annotations."
   ]
  },
  {
   "cell_type": "markdown",
   "metadata": {},
   "source": [
    "## Cleaning/Exploring the Data"
   ]
  },
  {
   "cell_type": "markdown",
   "metadata": {},
   "source": [
    "Because I pulled the data from the Genius API, the data itself did not require a whole lot of cleaning before I began working with it. I did remove unicode characters that couldn't be encoded into an ASCII so that I would have an easier time splitting documents and creating vector representations. I've included some preliminary exploratory analysis below:"
   ]
  },
  {
   "cell_type": "markdown",
   "metadata": {},
   "source": [
    "### Distribution of Referent Length"
   ]
  },
  {
   "cell_type": "markdown",
   "metadata": {},
   "source": [
    "<img src=\"./Images/ref_length.png\">"
   ]
  },
  {
   "cell_type": "markdown",
   "metadata": {},
   "source": [
    "### Annotations by State"
   ]
  },
  {
   "cell_type": "markdown",
   "metadata": {},
   "source": [
    "<img src=\"./Images/ann_state.png\">"
   ]
  },
  {
   "cell_type": "markdown",
   "metadata": {},
   "source": [
    "### Annotation Comment Count"
   ]
  },
  {
   "cell_type": "markdown",
   "metadata": {},
   "source": [
    "<img src=\"./Images/ann_comment_count.png\">"
   ]
  },
  {
   "cell_type": "markdown",
   "metadata": {},
   "source": [
    "### Annotation Length (Words)"
   ]
  },
  {
   "cell_type": "markdown",
   "metadata": {},
   "source": [
    "<img src=\"./Images/ann_length.png\">"
   ]
  },
  {
   "cell_type": "code",
   "execution_count": null,
   "metadata": {
    "collapsed": true
   },
   "outputs": [],
   "source": []
  }
 ],
 "metadata": {
  "anaconda-cloud": {},
  "kernelspec": {
   "display_name": "Python [conda env:dsi]",
   "language": "python",
   "name": "conda-env-dsi-py"
  },
  "language_info": {
   "codemirror_mode": {
    "name": "ipython",
    "version": 2
   },
   "file_extension": ".py",
   "mimetype": "text/x-python",
   "name": "python",
   "nbconvert_exporter": "python",
   "pygments_lexer": "ipython2",
   "version": "2.7.12"
  }
 },
 "nbformat": 4,
 "nbformat_minor": 1
}
